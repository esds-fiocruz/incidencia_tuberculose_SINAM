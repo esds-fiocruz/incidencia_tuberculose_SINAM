{
  "nbformat": 4,
  "nbformat_minor": 0,
  "metadata": {
    "colab": {
      "provenance": [],
      "include_colab_link": true
    },
    "kernelspec": {
      "name": "python3",
      "display_name": "Python 3"
    },
    "language_info": {
      "name": "python"
    }
  },
  "cells": [
    {
      "cell_type": "markdown",
      "metadata": {
        "id": "view-in-github",
        "colab_type": "text"
      },
      "source": [
        "<a href=\"https://colab.research.google.com/github/esds-fiocruz/incidencia_tuberculose_SINAM/blob/main/TUB_CN.ipynb\" target=\"_parent\"><img src=\"https://colab.research.google.com/assets/colab-badge.svg\" alt=\"Open In Colab\"/></a>"
      ]
    },
    {
      "cell_type": "code",
      "source": [
        "#Download das biblioteca do PySUS\n",
        "!pip install pysus\n",
        "!pip install --upgrade openpyxl"
      ],
      "metadata": {
        "id": "nV3c6-67PFNw"
      },
      "execution_count": null,
      "outputs": []
    },
    {
      "cell_type": "code",
      "source": [
        "#Importação das bibliotecas\n",
        "import os\n",
        "import pandas as pd\n",
        "import numpy as np\n",
        "from pysus.ftp.databases.sinan import SINAN\n",
        "from openpyxl import load_workbook, Workbook"
      ],
      "metadata": {
        "id": "XEo-2vuBPYoe"
      },
      "execution_count": 1,
      "outputs": []
    },
    {
      "cell_type": "code",
      "source": [
        "#Carregando as informações do SINAN\n",
        "sinan = SINAN().load()\n",
        "files = sinan.get_files(dis_code=\"TUBE\", year=[2023,2022, 2021, 2020, 2019])\n",
        "tube_2023, tube_2022, tube_2021 , tube_2020, tube_2019  = files"
      ],
      "metadata": {
        "id": "d0TWTyvDPvr7"
      },
      "execution_count": 2,
      "outputs": []
    },
    {
      "cell_type": "code",
      "source": [
        "sinan.describe(tube_2023)"
      ],
      "metadata": {
        "id": "lb7ojFBHFpzY",
        "colab": {
          "base_uri": "https://localhost:8080/"
        },
        "outputId": "d5bfffb9-a8b6-4044-c181-167a0c62fc24"
      },
      "execution_count": 3,
      "outputs": [
        {
          "output_type": "execute_result",
          "data": {
            "text/plain": [
              "{'name': 'TUBEBR19.dbc',\n",
              " 'disease': 'Tuberculose',\n",
              " 'year': 2019,\n",
              " 'size': '5.2 MB',\n",
              " 'last_update': '2024-04-22 04:23PM'}"
            ]
          },
          "metadata": {},
          "execution_count": 3
        }
      ]
    },
    {
      "cell_type": "code",
      "source": [
        "# Gerando a estruta de arquivos e obtendo os dados do SINAM\n",
        "lista_tub = [tube_2023,tube_2022, tube_2021, tube_2020, tube_2019]\n",
        "for tub in lista_tub:\n",
        "   nome = str(tub)\n",
        "   ano = nome[6:8]\n",
        "   if not os.path.isfile(f'/content/TUB_CN/20{ano}/TUB_CN_20{ano}.csv'):\n",
        "      os.makedirs(f\"./TUB_CN/20{ano}\")\n",
        "      parquet = tub.download()\n",
        "      df = parquet.to_dataframe()\n",
        "      df.to_csv(f'/content/TUB_CN/20{ano}/TUB_CN_20{ano}.csv', index=False)"
      ],
      "metadata": {
        "id": "hTXcGOmaZcA9"
      },
      "execution_count": 4,
      "outputs": []
    },
    {
      "cell_type": "code",
      "source": [
        "#Filtragem dos anos\n",
        "def gera_anos(anos):\n",
        "    if anos is None:\n",
        "        anos = [2023,2022,2021,2020,2019]\n",
        "    elif type(anos) is not list:\n",
        "        anos = [anos]\n",
        "    else:\n",
        "        anos = anos\n",
        "    return anos"
      ],
      "metadata": {
        "id": "btuKFyta2gRK"
      },
      "execution_count": 5,
      "outputs": []
    },
    {
      "cell_type": "code",
      "source": [
        "#Conversão dos códigos UF's\n",
        "def gera_ufs(ufs):\n",
        "  dict_uf = {\n",
        "        \"AC\": 12,\n",
        "        \"AL\": 27,\n",
        "        \"AP\": 16,\n",
        "        \"AM\": 13,\n",
        "        \"BA\": 29,\n",
        "        \"CE\": 23,\n",
        "        \"DF\": 53,\n",
        "        \"ES\": 32,\n",
        "        \"GO\": 52,\n",
        "        \"MA\": 21,\n",
        "        \"MT\": 51,\n",
        "        \"MS\": 50,\n",
        "        \"MG\": 31,\n",
        "        \"PA\": 15,\n",
        "        \"PB\": 25,\n",
        "        \"PR\": 41,\n",
        "        \"PE\": 26,\n",
        "        \"PI\": 22,\n",
        "        \"RJ\": 33,\n",
        "        \"RN\": 24,\n",
        "        \"RS\": 43,\n",
        "        \"RO\": 11,\n",
        "        \"RR\": 14,\n",
        "        \"SC\": 42,\n",
        "        \"SP\": 35,\n",
        "        \"SE\": 28,\n",
        "        \"TO\": 17\n",
        "    }\n",
        "\n",
        "  if ufs is None:\n",
        "      return list(dict_uf.values())\n",
        "  elif type(ufs) is not list:\n",
        "      lista_ufs =[dict_uf[ufs]]\n",
        "      return lista_ufs\n",
        "  else:\n",
        "    for uf in ufs:\n",
        "      lista_ufs =[]\n",
        "      for key in ufs:\n",
        "         lista_ufs.append(dict_uf[key])\n",
        "      return lista_ufs\n"
      ],
      "metadata": {
        "id": "8dP3A1dz4NR6"
      },
      "execution_count": 6,
      "outputs": []
    },
    {
      "cell_type": "code",
      "source": [
        "#Leitura do dados da polulação oriundos do ibge\n",
        "def obtem_df_ibge(arquivo):\n",
        "    df_ibge = pd.read_excel(arquivo)\n",
        "    df_ibge = df_ibge[[\"CODIGO_UF\", \"POP_ANT\"]]\n",
        "    df_ibge = df_ibge.dropna()\n",
        "    df_ibge = df_ibge.sort_values(by=[\"CODIGO_UF\"])\n",
        "    return df_ibge"
      ],
      "metadata": {
        "id": "awVM9OzLUkri"
      },
      "execution_count": 7,
      "outputs": []
    },
    {
      "cell_type": "code",
      "source": [
        "#Função principal para a criação da planilha com o coeficiente de incidência de casos novos de tuberculose\n",
        "def cria_df(anos=None,ufs=None):\n",
        "    lista_anos = gera_anos(anos)\n",
        "    lista_ufs = gera_ufs(ufs)\n",
        "\n",
        "    wb = Workbook()\n",
        "    wb.save(\"/content/TUB_CN/TUB_CN_GERAL.xlsx\")\n",
        "    excel_workbook = load_workbook(\"/content/TUB_CN/TUB_CN_GERAL.xlsx\")\n",
        "    writer = pd.ExcelWriter(\"/content/TUB_CN/TUB_CN_GERAL.xlsx\", engine='openpyxl')\n",
        "\n",
        "    for ano in lista_anos:\n",
        "        df = pd.read_csv(f'/content/TUB_CN/{ano}/TUB_CN_{ano}.csv', low_memory=False)\n",
        "\n",
        "        df = df[df['SG_UF'].isin(lista_ufs)]\n",
        "        #6. Pós-óbito #1. Caso Novo #4. Não Sabe\n",
        "        df = df[df['TRATAMENTO'].isin([1,4,6])]\n",
        "        df = df.groupby([\"TRATAMENTO\", \"SG_UF\"]).size().reset_index(name=\"TOTAL\")\n",
        "        df = df.groupby(\"SG_UF\")[\"TOTAL\"].sum().reset_index(name=\"TOTAL_CASOS_NOVOS\")\n",
        "        df[\"ANO\"]= ano\n",
        "\n",
        "        lista_ufs_inv = []\n",
        "        for index, linha in df.iterrows():\n",
        "            dict_uf ={\n",
        "                11:\"RO\",\n",
        "                12:\"AC\",\n",
        "                13:\"AM\",\n",
        "                14:\"RR\",\n",
        "                15:\"PA\",\n",
        "                16:\"AP\",\n",
        "                17:\"TO\",\n",
        "                21:\"MA\",\n",
        "                22:\"PI\",\n",
        "                23:\"CE\",\n",
        "                24:\"RN\",\n",
        "                25:\"PB\",\n",
        "                26:\"PE\",\n",
        "                27:\"AL\",\n",
        "                28:\"SE\",\n",
        "                29:\"BA\",\n",
        "                31:\"MG\",\n",
        "                32:\"ES\",\n",
        "                33:\"RJ\",\n",
        "                35:\"SP\",\n",
        "                41:\"PR\",\n",
        "                42:\"SC\",\n",
        "                43:\"RS\",\n",
        "                50:\"MS\",\n",
        "                51:\"MT\",\n",
        "                52:\"GO\",\n",
        "                53:\"DF\",\n",
        "\n",
        "            }\n",
        "            lista_ufs_inv.append(dict_uf[linha['SG_UF']])\n",
        "\n",
        "\n",
        "\n",
        "\n",
        "        df['SIGLA_UF'] = lista_ufs_inv\n",
        "        df.drop(['SG_UF'], axis=1, inplace=True)\n",
        "        df = df[[\"SIGLA_UF\", \"TOTAL_CASOS_NOVOS\", \"ANO\"]]\n",
        "        df = df.sort_values(by=['SIGLA_UF'])\n",
        "\n",
        "\n",
        "\n",
        "        df_ibge = obtem_df_ibge(\"/content/dados_ibge_projecao_tab_net_2022.xlsx\")\n",
        "        df_ibge = df_ibge[df_ibge['CODIGO_UF'].isin(lista_ufs_inv)]\n",
        "        df[\"POP_IBGE\"] = df_ibge[\"POP_ANT\"].to_list()\n",
        "\n",
        "\n",
        "        df[\"COF_INC_CEM_MIL\"] = (df[\"TOTAL_CASOS_NOVOS\"]/df[\"POP_IBGE\"])*100000\n",
        "        df = df.round({'COF_INC_CEM_MIL': 2})\n",
        "        df = df[[\"SIGLA_UF\", \"TOTAL_CASOS_NOVOS\", \"POP_IBGE\", \"COF_INC_CEM_MIL\",\"ANO\"]]\n",
        "\n",
        "        df.to_excel(writer, sheet_name=f'{ano}', index=False)\n",
        "\n",
        "    writer.close()"
      ],
      "metadata": {
        "id": "4m8wW0FSztpj"
      },
      "execution_count": 8,
      "outputs": []
    },
    {
      "cell_type": "code",
      "source": [
        "cria_df()"
      ],
      "metadata": {
        "id": "doQuiqLd02eT"
      },
      "execution_count": 9,
      "outputs": []
    }
  ]
}